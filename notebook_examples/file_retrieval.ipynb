{
 "cells": [
  {
   "cell_type": "code",
   "execution_count": 1,
   "id": "0c973fcc-0bba-44c3-853c-8b56effc5a4c",
   "metadata": {},
   "outputs": [
    {
     "name": "stdout",
     "output_type": "stream",
     "text": [
      "CRDS local filepath: /home/fran/crds_cache\n",
      "CRDS file server: https://jwst-crds.stsci.edu\n"
     ]
    }
   ],
   "source": [
    "# Basic import necessary for configuration.\n",
    "import os\n",
    "import warnings\n",
    "import requests\n",
    "\n",
    "warnings.simplefilter(\"ignore\", RuntimeWarning)\n",
    "\n",
    "maindir = os.path.join(os.getcwd(), '../Data/')\n",
    "\n",
    "# Set CRDS cache directory to user home if not already set.\n",
    "if os.getenv('CRDS_PATH') is None:\n",
    "    os.environ['CRDS_PATH'] = os.path.join(os.path.expanduser('~'), 'crds_cache')\n",
    "\n",
    "# Check whether the CRDS server URL has been set. If not, set it.\n",
    "if os.getenv('CRDS_SERVER_URL') is None:\n",
    "    os.environ['CRDS_SERVER_URL'] = 'https://jwst-crds.stsci.edu'\n",
    "\n",
    "# Output the current CRDS path and server URL in use.\n",
    "print('CRDS local filepath:', os.environ['CRDS_PATH'])\n",
    "print('CRDS file server:', os.environ['CRDS_SERVER_URL'])"
   ]
  },
  {
   "cell_type": "code",
   "execution_count": 2,
   "id": "e5744c91",
   "metadata": {},
   "outputs": [],
   "source": [
    "# ----------------------General Imports----------------------\n",
    "import time\n",
    "import glob\n",
    "import json\n",
    "import itertools\n",
    "import numpy as np\n",
    "import pandas as pd\n",
    "\n",
    "# --------------------Astroquery Imports---------------------\n",
    "from astroquery.mast import Observations\n",
    "\n",
    "# ----------------------Astropy Imports----------------------\n",
    "# Astropy utilities for opening FITS files, downloading demo files, etc.\n",
    "from astropy.table import Table\n",
    "from astropy.stats import sigma_clip\n",
    "from astropy.visualization import ImageNormalize, ManualInterval, LogStretch\n",
    "from astropy.visualization import LinearStretch, AsinhStretch, simple_norm\n",
    "\n",
    "# ----------------------Plotting Imports---------------------\n",
    "import matplotlib.pyplot as plt\n",
    "from matplotlib.patches import Rectangle\n",
    "from matplotlib.collections import PatchCollection\n",
    "\n",
    "# -------------------File Download Imports-------------------\n",
    "from tqdm.auto import tqdm\n",
    "from multiprocessing import Pool, cpu_count\n",
    "from functools import partial"
   ]
  },
  {
   "cell_type": "code",
   "execution_count": 3,
   "id": "4651c128",
   "metadata": {},
   "outputs": [
    {
     "name": "stderr",
     "output_type": "stream",
     "text": [
      "CRDS - INFO -  Calibration SW Found: jwst 1.18.0 (/home/fran/.local/lib/python3.13/site-packages/jwst-1.18.0.dist-info)\n"
     ]
    },
    {
     "name": "stdout",
     "output_type": "stream",
     "text": [
      "JWST Calibration Pipeline Version = 1.18.0\n",
      "Default CRDS Context for JWST Version 1.18.0: jwst_1364.pmap\n",
      "Using CRDS Context: jwst_1364.pmap\n"
     ]
    }
   ],
   "source": [
    "# ----------------------JWST Calibration Pipeline Imports----------------------\n",
    "import jwst  # Import the base JWST and CRDS packages.\n",
    "import crds\n",
    "from crds.client import api\n",
    "from stpipe import crds_client\n",
    "\n",
    "# JWST pipelines (each encompassing many steps).\n",
    "from jwst.pipeline import Detector1Pipeline  # calwebb_detector1\n",
    "from jwst.pipeline import Spec2Pipeline  # calwebb_spec2\n",
    "from jwst.pipeline import Tso3Pipeline  # calwebb_tso3\n",
    "from jwst.extract_1d import Extract1dStep  # Extract1D Step\n",
    "\n",
    "# JWST pipeline utilities\n",
    "from jwst import datamodels  # JWST pipeline utilities: datamodels.\n",
    "from jwst.associations import asn_from_list  # Tools for creating association files.\n",
    "from jwst.associations.lib.rules_level2b import Asn_Lv2SpecTSO\n",
    "from jwst.associations.lib.rules_level3 import DMS_Level3_Base\n",
    "\n",
    "# Check the default context for the Pipeline version\n",
    "default_context = crds.get_default_context('jwst', state='build')\n",
    "print(\"JWST Calibration Pipeline Version = {}\".format(jwst.__version__))\n",
    "print(f\"Default CRDS Context for JWST Version {jwst.__version__}: {default_context}\")\n",
    "print(f\"Using CRDS Context: {os.environ.get('CRDS_CONTEXT', default_context)}\")"
   ]
  },
  {
   "cell_type": "code",
   "execution_count": 4,
   "id": "ebd2bfb6",
   "metadata": {},
   "outputs": [],
   "source": [
    "# --------------Program and observation information--------------\n",
    "program = \"01366\"\n",
    "sci_observtn = \"003\"\n",
    "bg_observtn = None\n",
    "filters = [\"G395H\"]\n",
    "\n",
    "# ----------Define the base and observation directories----------\n",
    "basedir = os.path.join(maindir, f'data_{program}')\n",
    "sci_dir = os.path.join(basedir, f'Obs{sci_observtn}')\n",
    "uncal_dir = os.path.join(sci_dir, 'uncal/')\n",
    "\n",
    "os.makedirs(uncal_dir, exist_ok=True)"
   ]
  },
  {
   "cell_type": "code",
   "execution_count": 5,
   "id": "0a2bebb1",
   "metadata": {},
   "outputs": [],
   "source": [
    "sci_obs_id_table = Observations.query_criteria(instrument_name=['NIRSPEC/SLIT'],\n",
    "                                                provenance_name=[\"CALJWST\"],\n",
    "                                                obs_id=[f'*{program}*{sci_observtn}*'])\n",
    "sci_downloads, asn_downloads = [], []\n",
    "\n",
    "file_criteria = {'filters': filters, 'calib_level': [1],\n",
    "                'productSubGroupDescription': ['UNCAL']}\n",
    "\n"
   ]
  },
  {
   "cell_type": "code",
   "execution_count": 6,
   "id": "e62e5dff",
   "metadata": {},
   "outputs": [
    {
     "data": {
      "text/html": [
       "<div>\n",
       "<style scoped>\n",
       "    .dataframe tbody tr th:only-of-type {\n",
       "        vertical-align: middle;\n",
       "    }\n",
       "\n",
       "    .dataframe tbody tr th {\n",
       "        vertical-align: top;\n",
       "    }\n",
       "\n",
       "    .dataframe thead th {\n",
       "        text-align: right;\n",
       "    }\n",
       "</style>\n",
       "<table border=\"1\" class=\"dataframe\">\n",
       "  <thead>\n",
       "    <tr style=\"text-align: right;\">\n",
       "      <th></th>\n",
       "      <th>0</th>\n",
       "      <th>1</th>\n",
       "      <th>2</th>\n",
       "      <th>3</th>\n",
       "      <th>4</th>\n",
       "      <th>5</th>\n",
       "      <th>6</th>\n",
       "      <th>7</th>\n",
       "      <th>8</th>\n",
       "      <th>9</th>\n",
       "      <th>10</th>\n",
       "      <th>11</th>\n",
       "      <th>12</th>\n",
       "      <th>13</th>\n",
       "      <th>14</th>\n",
       "      <th>15</th>\n",
       "      <th>16</th>\n",
       "      <th>17</th>\n",
       "      <th>18</th>\n",
       "      <th>19</th>\n",
       "    </tr>\n",
       "  </thead>\n",
       "  <tbody>\n",
       "    <tr>\n",
       "      <th>0</th>\n",
       "      <td>87769340</td>\n",
       "      <td>JWST</td>\n",
       "      <td>timeseries</td>\n",
       "      <td>jw01366003001_04101_00001-seg001_nrs2</td>\n",
       "      <td>exposure (L1b): Uncalibrated 4D exposure data</td>\n",
       "      <td>S</td>\n",
       "      <td>mast:JWST/product/jw01366003001_04101_00001-se...</td>\n",
       "      <td>SCIENCE</td>\n",
       "      <td>--</td>\n",
       "      <td>UNCAL</td>\n",
       "      <td>--</td>\n",
       "      <td>CALJWST</td>\n",
       "      <td>--</td>\n",
       "      <td>1366</td>\n",
       "      <td>jw01366003001_04101_00001-seg001_nrs2_uncal.fits</td>\n",
       "      <td>1422204480</td>\n",
       "      <td>233644122</td>\n",
       "      <td>PUBLIC</td>\n",
       "      <td>1</td>\n",
       "      <td>F290LP;G395H</td>\n",
       "    </tr>\n",
       "    <tr>\n",
       "      <th>1</th>\n",
       "      <td>87769341</td>\n",
       "      <td>JWST</td>\n",
       "      <td>timeseries</td>\n",
       "      <td>jw01366003001_04101_00001-seg003_nrs1</td>\n",
       "      <td>exposure (L1b): Uncalibrated 4D exposure data</td>\n",
       "      <td>S</td>\n",
       "      <td>mast:JWST/product/jw01366003001_04101_00001-se...</td>\n",
       "      <td>SCIENCE</td>\n",
       "      <td>--</td>\n",
       "      <td>UNCAL</td>\n",
       "      <td>--</td>\n",
       "      <td>CALJWST</td>\n",
       "      <td>--</td>\n",
       "      <td>1366</td>\n",
       "      <td>jw01366003001_04101_00001-seg003_nrs1_uncal.fits</td>\n",
       "      <td>1422204480</td>\n",
       "      <td>233644122</td>\n",
       "      <td>PUBLIC</td>\n",
       "      <td>1</td>\n",
       "      <td>F290LP;G395H</td>\n",
       "    </tr>\n",
       "    <tr>\n",
       "      <th>2</th>\n",
       "      <td>87769342</td>\n",
       "      <td>JWST</td>\n",
       "      <td>timeseries</td>\n",
       "      <td>jw01366003001_04101_00001-seg002_nrs2</td>\n",
       "      <td>exposure (L1b): Uncalibrated 4D exposure data</td>\n",
       "      <td>S</td>\n",
       "      <td>mast:JWST/product/jw01366003001_04101_00001-se...</td>\n",
       "      <td>SCIENCE</td>\n",
       "      <td>--</td>\n",
       "      <td>UNCAL</td>\n",
       "      <td>--</td>\n",
       "      <td>CALJWST</td>\n",
       "      <td>--</td>\n",
       "      <td>1366</td>\n",
       "      <td>jw01366003001_04101_00001-seg002_nrs2_uncal.fits</td>\n",
       "      <td>1422204480</td>\n",
       "      <td>233644122</td>\n",
       "      <td>PUBLIC</td>\n",
       "      <td>1</td>\n",
       "      <td>F290LP;G395H</td>\n",
       "    </tr>\n",
       "    <tr>\n",
       "      <th>3</th>\n",
       "      <td>87769343</td>\n",
       "      <td>JWST</td>\n",
       "      <td>timeseries</td>\n",
       "      <td>jw01366003001_04101_00001-seg001_nrs1</td>\n",
       "      <td>exposure (L1b): Uncalibrated 4D exposure data</td>\n",
       "      <td>S</td>\n",
       "      <td>mast:JWST/product/jw01366003001_04101_00001-se...</td>\n",
       "      <td>SCIENCE</td>\n",
       "      <td>--</td>\n",
       "      <td>UNCAL</td>\n",
       "      <td>--</td>\n",
       "      <td>CALJWST</td>\n",
       "      <td>--</td>\n",
       "      <td>1366</td>\n",
       "      <td>jw01366003001_04101_00001-seg001_nrs1_uncal.fits</td>\n",
       "      <td>1422204480</td>\n",
       "      <td>233644122</td>\n",
       "      <td>PUBLIC</td>\n",
       "      <td>1</td>\n",
       "      <td>F290LP;G395H</td>\n",
       "    </tr>\n",
       "    <tr>\n",
       "      <th>4</th>\n",
       "      <td>87769344</td>\n",
       "      <td>JWST</td>\n",
       "      <td>timeseries</td>\n",
       "      <td>jw01366003001_04101_00001-seg003_nrs2</td>\n",
       "      <td>exposure (L1b): Uncalibrated 4D exposure data</td>\n",
       "      <td>S</td>\n",
       "      <td>mast:JWST/product/jw01366003001_04101_00001-se...</td>\n",
       "      <td>SCIENCE</td>\n",
       "      <td>--</td>\n",
       "      <td>UNCAL</td>\n",
       "      <td>--</td>\n",
       "      <td>CALJWST</td>\n",
       "      <td>--</td>\n",
       "      <td>1366</td>\n",
       "      <td>jw01366003001_04101_00001-seg003_nrs2_uncal.fits</td>\n",
       "      <td>1422204480</td>\n",
       "      <td>233644122</td>\n",
       "      <td>PUBLIC</td>\n",
       "      <td>1</td>\n",
       "      <td>F290LP;G395H</td>\n",
       "    </tr>\n",
       "    <tr>\n",
       "      <th>5</th>\n",
       "      <td>87769345</td>\n",
       "      <td>JWST</td>\n",
       "      <td>timeseries</td>\n",
       "      <td>jw01366003001_04101_00001-seg002_nrs1</td>\n",
       "      <td>exposure (L1b): Uncalibrated 4D exposure data</td>\n",
       "      <td>S</td>\n",
       "      <td>mast:JWST/product/jw01366003001_04101_00001-se...</td>\n",
       "      <td>SCIENCE</td>\n",
       "      <td>--</td>\n",
       "      <td>UNCAL</td>\n",
       "      <td>--</td>\n",
       "      <td>CALJWST</td>\n",
       "      <td>--</td>\n",
       "      <td>1366</td>\n",
       "      <td>jw01366003001_04101_00001-seg002_nrs1_uncal.fits</td>\n",
       "      <td>1422204480</td>\n",
       "      <td>233644122</td>\n",
       "      <td>PUBLIC</td>\n",
       "      <td>1</td>\n",
       "      <td>F290LP;G395H</td>\n",
       "    </tr>\n",
       "  </tbody>\n",
       "</table>\n",
       "</div>"
      ],
      "text/plain": [
       "         0     1           2                                      3   \\\n",
       "0  87769340  JWST  timeseries  jw01366003001_04101_00001-seg001_nrs2   \n",
       "1  87769341  JWST  timeseries  jw01366003001_04101_00001-seg003_nrs1   \n",
       "2  87769342  JWST  timeseries  jw01366003001_04101_00001-seg002_nrs2   \n",
       "3  87769343  JWST  timeseries  jw01366003001_04101_00001-seg001_nrs1   \n",
       "4  87769344  JWST  timeseries  jw01366003001_04101_00001-seg003_nrs2   \n",
       "5  87769345  JWST  timeseries  jw01366003001_04101_00001-seg002_nrs1   \n",
       "\n",
       "                                              4  5   \\\n",
       "0  exposure (L1b): Uncalibrated 4D exposure data  S   \n",
       "1  exposure (L1b): Uncalibrated 4D exposure data  S   \n",
       "2  exposure (L1b): Uncalibrated 4D exposure data  S   \n",
       "3  exposure (L1b): Uncalibrated 4D exposure data  S   \n",
       "4  exposure (L1b): Uncalibrated 4D exposure data  S   \n",
       "5  exposure (L1b): Uncalibrated 4D exposure data  S   \n",
       "\n",
       "                                                  6        7   8      9   10  \\\n",
       "0  mast:JWST/product/jw01366003001_04101_00001-se...  SCIENCE  --  UNCAL  --   \n",
       "1  mast:JWST/product/jw01366003001_04101_00001-se...  SCIENCE  --  UNCAL  --   \n",
       "2  mast:JWST/product/jw01366003001_04101_00001-se...  SCIENCE  --  UNCAL  --   \n",
       "3  mast:JWST/product/jw01366003001_04101_00001-se...  SCIENCE  --  UNCAL  --   \n",
       "4  mast:JWST/product/jw01366003001_04101_00001-se...  SCIENCE  --  UNCAL  --   \n",
       "5  mast:JWST/product/jw01366003001_04101_00001-se...  SCIENCE  --  UNCAL  --   \n",
       "\n",
       "        11  12    13                                                14  \\\n",
       "0  CALJWST  --  1366  jw01366003001_04101_00001-seg001_nrs2_uncal.fits   \n",
       "1  CALJWST  --  1366  jw01366003001_04101_00001-seg003_nrs1_uncal.fits   \n",
       "2  CALJWST  --  1366  jw01366003001_04101_00001-seg002_nrs2_uncal.fits   \n",
       "3  CALJWST  --  1366  jw01366003001_04101_00001-seg001_nrs1_uncal.fits   \n",
       "4  CALJWST  --  1366  jw01366003001_04101_00001-seg003_nrs2_uncal.fits   \n",
       "5  CALJWST  --  1366  jw01366003001_04101_00001-seg002_nrs1_uncal.fits   \n",
       "\n",
       "           15         16      17  18            19  \n",
       "0  1422204480  233644122  PUBLIC   1  F290LP;G395H  \n",
       "1  1422204480  233644122  PUBLIC   1  F290LP;G395H  \n",
       "2  1422204480  233644122  PUBLIC   1  F290LP;G395H  \n",
       "3  1422204480  233644122  PUBLIC   1  F290LP;G395H  \n",
       "4  1422204480  233644122  PUBLIC   1  F290LP;G395H  \n",
       "5  1422204480  233644122  PUBLIC   1  F290LP;G395H  "
      ]
     },
     "execution_count": 6,
     "metadata": {},
     "output_type": "execute_result"
    }
   ],
   "source": [
    "def matches_criteria(prod, criteria):\n",
    "    '''\n",
    "    Check if a product matches the given criteria.\n",
    "    :param prod: The product to check.\n",
    "    :param criteria: The criteria to match against.\n",
    "    :return: True if the product matches the criteria, False otherwise.\n",
    "    '''\n",
    "\n",
    "    for key, values in criteria.items():\n",
    "        prod_value = prod.get(key)\n",
    "        if prod_value is None:\n",
    "            return False\n",
    "\n",
    "        # For string matching inside string (e.g., 'UNCAL' in 'PRODUCT_UNCAL')\n",
    "        if isinstance(prod_value, str):\n",
    "            if not any(val in prod_value for val in values):\n",
    "                return False\n",
    "        # For list matching (e.g., ['F200W'] in ['F200W', 'F444W'])\n",
    "        elif isinstance(prod_value, list):\n",
    "            if not any(val in prod_value for val in values):\n",
    "                return False\n",
    "        else:\n",
    "            # Direct equality (e.g., calib_level)\n",
    "            if prod_value not in values:\n",
    "                return False\n",
    "\n",
    "    return True\n",
    "\n",
    "matching_unique = [\n",
    "    prod\n",
    "    for exposure in sci_obs_id_table\n",
    "    for prod in Observations.get_product_list(exposure)\n",
    "    if matches_criteria(prod, file_criteria)\n",
    "]\n",
    "\n",
    "pd.DataFrame(matching_unique)"
   ]
  },
  {
   "cell_type": "code",
   "execution_count": 7,
   "id": "3d49136d",
   "metadata": {},
   "outputs": [
    {
     "name": "stdout",
     "output_type": "stream",
     "text": [
      "Science files selected for downloading: 6\n"
     ]
    }
   ],
   "source": [
    "sci_downloads = [matching_unique[i]['dataURI'] for i in range(len(matching_unique))]\n",
    "\n",
    "# Filter out other observations and remove duplicates.\n",
    "sci_downloads = {f for f in sci_downloads if f\"jw{program}{sci_observtn}\" in f}\n",
    "\n",
    "print(f\"Science files selected for downloading: {len(sci_downloads)}\")"
   ]
  },
  {
   "cell_type": "code",
   "execution_count": 8,
   "id": "bbe6f09a",
   "metadata": {},
   "outputs": [
    {
     "name": "stdout",
     "output_type": "stream",
     "text": [
      "\n",
      "Total files to download: 6\n",
      "\n",
      "Using 16 parallel workers.\n",
      "\n"
     ]
    },
    {
     "name": "stdout",
     "output_type": "stream",
     "text": [
      "Downloading jw01366003001_04101_00001-seg003_nrs1_uncal.fits (1356.32 MB)Downloading jw01366003001_04101_00001-seg003_nrs2_uncal.fits (1356.32 MB)\n",
      "\n",
      "Downloading jw01366003001_04101_00001-seg001_nrs2_uncal.fits (1356.32 MB)\n",
      "Downloading jw01366003001_04101_00001-seg002_nrs2_uncal.fits (1356.32 MB)\n",
      "Downloading jw01366003001_04101_00001-seg001_nrs1_uncal.fits (1356.32 MB)\n",
      "Downloading jw01366003001_04101_00001-seg002_nrs1_uncal.fits (1356.32 MB)\n"
     ]
    },
    {
     "data": {
      "application/vnd.jupyter.widget-view+json": {
       "model_id": "0c889e1534aa4a0e8b795b94ecbe2e9b",
       "version_major": 2,
       "version_minor": 0
      },
      "text/plain": [
       "jw01366003001_04101_00001-seg003_nrs2_uncal.fits:   0%|          | 0.00/1.42G [00:00<?, ?B/s]"
      ]
     },
     "metadata": {},
     "output_type": "display_data"
    },
    {
     "data": {
      "application/vnd.jupyter.widget-view+json": {
       "model_id": "ef458cb43dc743a5b76617b576f6252b",
       "version_major": 2,
       "version_minor": 0
      },
      "text/plain": [
       "jw01366003001_04101_00001-seg001_nrs2_uncal.fits:   0%|          | 0.00/1.42G [00:00<?, ?B/s]"
      ]
     },
     "metadata": {},
     "output_type": "display_data"
    },
    {
     "data": {
      "application/vnd.jupyter.widget-view+json": {
       "model_id": "af9389364e7b4e36b08f23f8cee212fa",
       "version_major": 2,
       "version_minor": 0
      },
      "text/plain": [
       "jw01366003001_04101_00001-seg003_nrs1_uncal.fits:   0%|          | 0.00/1.42G [00:00<?, ?B/s]"
      ]
     },
     "metadata": {},
     "output_type": "display_data"
    },
    {
     "data": {
      "application/vnd.jupyter.widget-view+json": {
       "model_id": "2c4edefec75e467bb024da7bcf0836fd",
       "version_major": 2,
       "version_minor": 0
      },
      "text/plain": [
       "jw01366003001_04101_00001-seg002_nrs1_uncal.fits:   0%|          | 0.00/1.42G [00:00<?, ?B/s]"
      ]
     },
     "metadata": {},
     "output_type": "display_data"
    },
    {
     "data": {
      "application/vnd.jupyter.widget-view+json": {
       "model_id": "d305e1eed99948249fd1f5d8f25ad885",
       "version_major": 2,
       "version_minor": 0
      },
      "text/plain": [
       "jw01366003001_04101_00001-seg002_nrs2_uncal.fits:   0%|          | 0.00/1.42G [00:00<?, ?B/s]"
      ]
     },
     "metadata": {},
     "output_type": "display_data"
    },
    {
     "data": {
      "application/vnd.jupyter.widget-view+json": {
       "model_id": "5790573e6bef4ea7b308248ae7953d9a",
       "version_major": 2,
       "version_minor": 0
      },
      "text/plain": [
       "jw01366003001_04101_00001-seg001_nrs1_uncal.fits:   0%|          | 0.00/1.42G [00:00<?, ?B/s]"
      ]
     },
     "metadata": {},
     "output_type": "display_data"
    },
    {
     "name": "stdout",
     "output_type": "stream",
     "text": [
      "✔ Finished jw01366003001_04101_00001-seg001_nrs2_uncal.fits\n",
      "✔ Finished jw01366003001_04101_00001-seg001_nrs1_uncal.fits\n",
      "✔ Finished jw01366003001_04101_00001-seg003_nrs1_uncal.fits\n",
      "✔ Finished jw01366003001_04101_00001-seg002_nrs1_uncal.fits\n",
      "✔ Finished jw01366003001_04101_00001-seg003_nrs2_uncal.fits\n",
      "✔ Finished jw01366003001_04101_00001-seg002_nrs2_uncal.fits\n"
     ]
    }
   ],
   "source": [
    "# Constants\n",
    "BASE_URL = \"https://mast.stsci.edu/api/v0.1/Download/file?uri=\"\n",
    "\n",
    "# ---------- Worker function for one file ----------\n",
    "def download_file(uri, target_dir):\n",
    "    fname = os.path.basename(uri)\n",
    "    target_path = os.path.join(target_dir, fname)\n",
    "\n",
    "    # Skip if file already exists\n",
    "    if os.path.exists(target_path):\n",
    "        print(f\"→ {fname} already exists. Skipping.\")\n",
    "        return\n",
    "\n",
    "    # HEAD request to get size\n",
    "    url = BASE_URL + uri\n",
    "    head = requests.head(url)\n",
    "    total_size = int(head.headers.get('Content-Length', 0))\n",
    "    size_mb = total_size / (1024 * 1024)\n",
    "    print(f\"Downloading {fname} ({size_mb:.2f} MB)\")\n",
    "\n",
    "    # GET request with streaming & progress bar\n",
    "    with requests.get(url, stream=True) as r, \\\n",
    "         open(target_path, 'wb') as f, \\\n",
    "         tqdm(total=total_size, unit='B', unit_scale=True, desc=fname) as pbar:\n",
    "\n",
    "        for chunk in r.iter_content(chunk_size=8192):\n",
    "            if chunk:\n",
    "                f.write(chunk)\n",
    "                pbar.update(len(chunk))\n",
    "\n",
    "    print(f\"✔ Finished {fname}\")\n",
    "\n",
    "# ---------- Main Execution ----------\n",
    "def main(sci_downloads, uncal_dir):\n",
    "    # 1. Filter files that don't exist yet\n",
    "    to_download = [uri for uri in sci_downloads\n",
    "                   if not os.path.exists(os.path.join(uncal_dir, os.path.basename(uri)))]\n",
    "\n",
    "    print(f\"\\nTotal files to download: {len(to_download)}\\n\")\n",
    "\n",
    "    if not to_download:\n",
    "        print(\"All files already present. Nothing to do.\")\n",
    "        return\n",
    "\n",
    "    # 2. Set up multiprocessing pool\n",
    "    num_workers = cpu_count()\n",
    "    print(f\"Using {num_workers} parallel workers.\\n\")\n",
    "\n",
    "    # 3. Use partial to fix the target directory argument\n",
    "    download_func = partial(download_file, target_dir=uncal_dir)\n",
    "\n",
    "    with Pool(num_workers) as pool:\n",
    "        pool.map(download_func, to_download)\n",
    "\n",
    "# ---------- Example usage ----------\n",
    "main(sci_downloads, uncal_dir)  # <-- Call this when you're ready\n"
   ]
  }
 ],
 "metadata": {
  "kernelspec": {
   "display_name": "Python 3",
   "language": "python",
   "name": "python3"
  },
  "language_info": {
   "codemirror_mode": {
    "name": "ipython",
    "version": 3
   },
   "file_extension": ".py",
   "mimetype": "text/x-python",
   "name": "python",
   "nbconvert_exporter": "python",
   "pygments_lexer": "ipython3",
   "version": "3.13.2"
  }
 },
 "nbformat": 4,
 "nbformat_minor": 5
}
