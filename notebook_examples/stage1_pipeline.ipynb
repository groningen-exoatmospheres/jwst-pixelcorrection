{
 "cells": [
  {
   "cell_type": "code",
   "execution_count": null,
   "id": "0c973fcc-0bba-44c3-853c-8b56effc5a4c",
   "metadata": {},
   "outputs": [],
   "source": [
    "# Basic import necessary for configuration.\n",
    "import os\n",
    "import warnings\n",
    "import requests\n",
    "\n",
    "warnings.simplefilter(\"ignore\", RuntimeWarning)\n",
    "\n",
    "maindir = os.path.join(os.getcwd(), '../Data/')\n",
    "\n",
    "# Set CRDS cache directory to user home if not already set.\n",
    "if os.getenv('CRDS_PATH') is None:\n",
    "    os.environ['CRDS_PATH'] = os.path.join(os.path.expanduser('~'), 'crds_cache')\n",
    "\n",
    "# Check whether the CRDS server URL has been set. If not, set it.\n",
    "if os.getenv('CRDS_SERVER_URL') is None:\n",
    "    os.environ['CRDS_SERVER_URL'] = 'https://jwst-crds.stsci.edu'\n",
    "\n",
    "# Output the current CRDS path and server URL in use.\n",
    "print('CRDS local filepath:', os.environ['CRDS_PATH'])\n",
    "print('CRDS file server:', os.environ['CRDS_SERVER_URL'])"
   ]
  },
  {
   "cell_type": "code",
   "execution_count": null,
   "id": "e5744c91",
   "metadata": {},
   "outputs": [],
   "source": [
    "# ----------------------General Imports----------------------\n",
    "import time\n",
    "import glob\n",
    "import json\n",
    "import itertools\n",
    "import numpy as np\n",
    "import pandas as pd\n",
    "\n",
    "# --------------------Astroquery Imports---------------------\n",
    "from astroquery.mast import Observations\n",
    "\n",
    "# ----------------------Astropy Imports----------------------\n",
    "# Astropy utilities for opening FITS files, downloading demo files, etc.\n",
    "from astropy.table import Table\n",
    "from astropy.stats import sigma_clip\n",
    "from astropy.visualization import ImageNormalize, ManualInterval, LogStretch\n",
    "from astropy.visualization import LinearStretch, AsinhStretch, simple_norm\n",
    "\n",
    "# ----------------------Plotting Imports---------------------\n",
    "import matplotlib.pyplot as plt\n",
    "from matplotlib.patches import Rectangle\n",
    "from matplotlib.collections import PatchCollection\n",
    "\n",
    "# -------------------File Download Imports-------------------\n",
    "from tqdm.auto import tqdm\n",
    "from multiprocessing import Pool, cpu_count\n",
    "from functools import partial"
   ]
  },
  {
   "cell_type": "code",
   "execution_count": null,
   "id": "4651c128",
   "metadata": {},
   "outputs": [],
   "source": [
    "# ----------------------JWST Calibration Pipeline Imports----------------------\n",
    "import jwst  # Import the base JWST and CRDS packages.\n",
    "import crds\n",
    "from crds.client import api\n",
    "from stpipe import crds_client\n",
    "\n",
    "# JWST pipelines (each encompassing many steps).\n",
    "from jwst.pipeline import Detector1Pipeline  # calwebb_detector1\n",
    "from jwst.pipeline import Spec2Pipeline  # calwebb_spec2\n",
    "from jwst.pipeline import Tso3Pipeline  # calwebb_tso3\n",
    "from jwst.extract_1d import Extract1dStep  # Extract1D Step\n",
    "\n",
    "# JWST pipeline utilities\n",
    "from jwst import datamodels  # JWST pipeline utilities: datamodels.\n",
    "from jwst.associations import asn_from_list  # Tools for creating association files.\n",
    "from jwst.associations.lib.rules_level2b import Asn_Lv2SpecTSO\n",
    "from jwst.associations.lib.rules_level3 import DMS_Level3_Base\n",
    "\n",
    "# Check the default context for the Pipeline version\n",
    "default_context = crds.get_default_context('jwst', state='build')\n",
    "print(\"JWST Calibration Pipeline Version = {}\".format(jwst.__version__))\n",
    "print(f\"Default CRDS Context for JWST Version {jwst.__version__}: {default_context}\")\n",
    "print(f\"Using CRDS Context: {os.environ.get('CRDS_CONTEXT', default_context)}\")"
   ]
  },
  {
   "cell_type": "code",
   "execution_count": null,
   "id": "c11e3ae5",
   "metadata": {},
   "outputs": [],
   "source": [
    "sci_dir = os.path.join(maindir, f'data_01366/Obs003/')\n",
    "uncal_dir = os.path.join(sci_dir, f'uncal/')\n",
    "det1_dir = os.path.join(sci_dir, 'stage1/') \n",
    "\n",
    "os.makedirs(det1_dir, exist_ok=True)"
   ]
  },
  {
   "cell_type": "code",
   "execution_count": null,
   "id": "24c5b232",
   "metadata": {},
   "outputs": [],
   "source": [
    "# -------------------------Boilerplate dictionary setup-------------------------\n",
    "det1dict = {}\n",
    "det1dict['group_scale'], det1dict['dq_init'], det1dict['saturation'] = {}, {}, {}\n",
    "det1dict['superbias'], det1dict['refpix'] = {}, {}\n",
    "det1dict['linearity'], det1dict['dark_current'], det1dict['jump'] = {}, {}, {}\n",
    "det1dict['clean_flicker_noise'], det1dict['ramp_fit'] = {}, {}\n",
    "det1dict['gain_scale'] = {}\n",
    "\n",
    "# -----------------------------Set step parameters------------------------------\n",
    "\n",
    "# Overrides for whether or not certain steps should be skipped (example).\n",
    "det1dict['linearity']['skip'] = False  # This is the default.\n",
    "det1dict['saturation']['skip'] = True\n",
    "#det1dict['jump']['skip'] = True\n",
    "#det1dict['ramp_fit']['skip'] = True\n",
    "\n",
    "# Turn on multi-core processing for jump step (off by default).\n",
    "# Choose what fraction of cores to use (quarter, half, or all).\n",
    "#det1dict['jump']['maximum_cores'] = 'half'\n",
    "\n",
    "# Turn on/off detection of cosmic ray snowballs (on by default).\n",
    "#det1dict['jump']['expand_large_events'] = False"
   ]
  },
  {
   "cell_type": "code",
   "execution_count": null,
   "id": "a78ba318",
   "metadata": {},
   "outputs": [],
   "source": [
    "# list files in uncal directory\n",
    "uncal_files = glob.glob(uncal_dir + '*6491*' + '*nrs1_uncal.fits')\n",
    "print(f\"Uncalibrated files found: {len(uncal_files)}\")\n",
    "print(f\"Science UNCAL Files:\\n{'-'*20}\\n\" + \"\\n\".join(uncal_files))"
   ]
  },
  {
   "cell_type": "code",
   "execution_count": null,
   "id": "62647313",
   "metadata": {},
   "outputs": [],
   "source": [
    "# --------------------------Science UNCAL files--------------------------\n",
    "for uncal_file in sorted(glob.glob(uncal_dir + '*6491*' + '*uncal.fits')):\n",
    "\n",
    "    print(f\"Applying Stage 1 Corrections & Calibrations to: \"\n",
    "            f\"{os.path.basename(uncal_file)}\")\n",
    "\n",
    "    det1_result = Detector1Pipeline.call(uncal_file,\n",
    "                                            save_results=True,\n",
    "                                             steps=det1dict,\n",
    "                                            output_dir=det1_dir)\n",
    "print(\"Stage 1 has been completed for SCI data! \\n\")"
   ]
  }
 ],
 "metadata": {
  "kernelspec": {
   "display_name": "Python 3",
   "language": "python",
   "name": "python3"
  },
  "language_info": {
   "codemirror_mode": {
    "name": "ipython",
    "version": 3
   },
   "file_extension": ".py",
   "mimetype": "text/x-python",
   "name": "python",
   "nbconvert_exporter": "python",
   "pygments_lexer": "ipython3",
   "version": "3.13.2"
  }
 },
 "nbformat": 4,
 "nbformat_minor": 5
}
